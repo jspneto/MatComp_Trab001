{
 "cells": [
  {
   "cell_type": "code",
   "execution_count": 34,
   "metadata": {},
   "outputs": [
    {
     "name": "stdout",
     "output_type": "stream",
     "text": [
      "1100.01\n",
      "\n",
      "100100.00100101010101111011110001111111011101111011\n",
      "\n"
     ]
    }
   ],
   "source": [
    "def converteNumero(numero):\n",
    "    auxiliarInt = []\n",
    "    auxiliarFra = []\n",
    "    decimal = int(numero)\n",
    "    fracionario = numero - int(numero)\n",
    "    \n",
    "    # Converte a parte inteira do número\n",
    "    while(decimal > 0):\n",
    "        resto = decimal % 2\n",
    "        auxiliarInt.append(resto)\n",
    "        decimal = int(decimal/2)\n",
    "    \n",
    "    # Converte a parte fracionária do número\n",
    "    while(fracionario != 0.0):\n",
    "        fracionario = fracionario*2\n",
    "        inteiro = int(fracionario)\n",
    "        auxiliarFra.append(inteiro)\n",
    "        fracionario = fracionario - inteiro\n",
    "    \n",
    "    auxiliarInt.reverse()\n",
    "    \n",
    "    # Imprime a parte inteira do número binário\n",
    "    i = 0\n",
    "    while(i < len(auxiliarInt)):\n",
    "        print(auxiliarInt[i], end = '')\n",
    "        i = i + 1\n",
    "    \n",
    "    print('.', end = '')\n",
    "    \n",
    "    # Imprime a parte fracionária do número binário\n",
    "    j = 0\n",
    "    while(j < len(auxiliarFra)):\n",
    "        print(auxiliarFra[j], end = '')\n",
    "        j = j + 1\n",
    "    \n",
    "    print('\\n')\n",
    "\n",
    "numero = 12.25\n",
    "converteNumero(numero)\n",
    "\n",
    "numero = 36.14587\n",
    "converteNumero(numero)"
   ]
  }
 ],
 "metadata": {
  "kernelspec": {
   "display_name": "Python 3",
   "language": "python",
   "name": "python3"
  },
  "language_info": {
   "codemirror_mode": {
    "name": "ipython",
    "version": 3
   },
   "file_extension": ".py",
   "mimetype": "text/x-python",
   "name": "python",
   "nbconvert_exporter": "python",
   "pygments_lexer": "ipython3",
   "version": "3.6.6"
  }
 },
 "nbformat": 4,
 "nbformat_minor": 2
}
