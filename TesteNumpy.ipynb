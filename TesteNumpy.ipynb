{
 "cells": [
  {
   "cell_type": "code",
   "execution_count": 1,
   "metadata": {},
   "outputs": [],
   "source": [
    "import numpy"
   ]
  },
  {
   "cell_type": "code",
   "execution_count": 5,
   "metadata": {},
   "outputs": [
    {
     "name": "stdout",
     "output_type": "stream",
     "text": [
      "[10.   21.7  25.6  27.55]\n"
     ]
    }
   ],
   "source": [
    "# A função numpy.arrange() cria uma lista de quatro elementos, cujo primeiro é 0 e o último é 3. Esses elementos são\n",
    "# manipulados pelas expressões abaixo e a saída é armazenada em c.\n",
    "\n",
    "a = numpy.arange(4.0)\n",
    "b = a * 23.4\n",
    "c = b/(a+1)\n",
    "c += 10\n",
    "print(c)"
   ]
  },
  {
   "cell_type": "code",
   "execution_count": 14,
   "metadata": {},
   "outputs": [
    {
     "name": "stdout",
     "output_type": "stream",
     "text": [
      "[170 125 150 175 195]\n"
     ]
    }
   ],
   "source": [
    "# Nesse trecho, a função define um arranjo entre 100 e 200, e em seguida define os elementos que serão exibidos\n",
    "# através da lista select: caso o elemento dessa lista seja positivo, o código pegará o valor 100 e somará com\n",
    "# esse elemento; caso seja negativo, pegará 200 e subtrairá o elemento.\n",
    "\n",
    "arr = numpy.arange(100, 200)\n",
    "select = [-30, 25, 50, 75, -5]\n",
    "print(arr[select])"
   ]
  },
  {
   "cell_type": "code",
   "execution_count": 15,
   "metadata": {},
   "outputs": [
    {
     "name": "stdout",
     "output_type": "stream",
     "text": [
      "[False False  True False False  True False False  True False]\n"
     ]
    }
   ],
   "source": [
    "# Esse trecho de código está verificando quais números entre 10 e 20 são divisíveis por três.\n",
    "\n",
    "arr = numpy.arange(10,20)\n",
    "div_by_3 = arr%3 == 0\n",
    "print(div_by_3)\n",
    "print(arr[div_by_3])"
   ]
  },
  {
   "cell_type": "code",
   "execution_count": 22,
   "metadata": {},
   "outputs": [
    {
     "name": "stdout",
     "output_type": "stream",
     "text": [
      "[[10 11]\n",
      " [12 13]\n",
      " [14 15]\n",
      " [16 17]\n",
      " [18 19]]\n"
     ]
    }
   ],
   "source": [
    "# Esse trecho cria um arranjo entre 10 e 20 e, por meio da função reshape(5,2), o divide em cinco subarranjos de 2\n",
    "# elementos cada.\n",
    "\n",
    "arr = numpy.arange(10, 20) . reshape((5,2))\n",
    "print(arr)"
   ]
  }
 ],
 "metadata": {
  "kernelspec": {
   "display_name": "Python 3",
   "language": "python",
   "name": "python3"
  },
  "language_info": {
   "codemirror_mode": {
    "name": "ipython",
    "version": 3
   },
   "file_extension": ".py",
   "mimetype": "text/x-python",
   "name": "python",
   "nbconvert_exporter": "python",
   "pygments_lexer": "ipython3",
   "version": "3.6.6"
  }
 },
 "nbformat": 4,
 "nbformat_minor": 2
}
